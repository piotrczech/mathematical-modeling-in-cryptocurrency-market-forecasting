{
 "cells": [
  {
   "cell_type": "code",
   "execution_count": 9,
   "metadata": {},
   "outputs": [],
   "source": [
    "import time\n",
    "import csv\n",
    "import os\n",
    "\n",
    "import matplotlib.pyplot as plt\n",
    "import numpy as np\n",
    "import pandas as pd\n",
    "import yfinance as yf\n",
    "\n",
    "from src.Clients.BlockchainApiClient import Client as BlockchainAPIClient\n",
    "from src.Clients.GoogleTrendsClient import Client as GoogleTrendsClient"
   ]
  },
  {
   "cell_type": "markdown",
   "metadata": {},
   "source": [
    "# Pobieranie danych"
   ]
  },
  {
   "cell_type": "code",
   "execution_count": 10,
   "metadata": {},
   "outputs": [],
   "source": [
    "START_YEAR = 2018\n",
    "END_YEAR = 2025\n",
    "OUTPUT_CSV = \"assets/crypto-data-new.csv\"\n",
    "file_exists = os.path.exists(OUTPUT_CSV)\n",
    "headers_written = file_exists"
   ]
  },
  {
   "cell_type": "markdown",
   "metadata": {},
   "source": [
    "## Yahoo Finance"
   ]
  },
  {
   "cell_type": "code",
   "execution_count": 11,
   "metadata": {},
   "outputs": [],
   "source": [
    "yahooClient = yf.Ticker(\"BTC-USD\")"
   ]
  },
  {
   "cell_type": "markdown",
   "metadata": {},
   "source": [
    "## Google Trends"
   ]
  },
  {
   "cell_type": "code",
   "execution_count": 12,
   "metadata": {},
   "outputs": [],
   "source": [
    "keywords = [\"Bitcoin\", \"BTC\"]\n",
    "trendsClient = GoogleTrendsClient(keywords)"
   ]
  },
  {
   "cell_type": "markdown",
   "metadata": {},
   "source": [
    "## Blockchain.com"
   ]
  },
  {
   "cell_type": "code",
   "execution_count": 13,
   "metadata": {},
   "outputs": [],
   "source": [
    "blockchainClient = BlockchainAPIClient()"
   ]
  },
  {
   "cell_type": "markdown",
   "metadata": {},
   "source": [
    "# Tworzenie CSV"
   ]
  },
  {
   "cell_type": "code",
   "execution_count": 14,
   "metadata": {},
   "outputs": [
    {
     "name": "stdout",
     "output_type": "stream",
     "text": [
      "Pobieranie danych dla roku 2018...\n",
      "Pobieranie danych dla roku 2019...\n",
      "Pobieranie danych dla roku 2020...\n",
      "Pobieranie danych dla roku 2021...\n",
      "Pobieranie danych dla roku 2022...\n",
      "Pobieranie danych dla roku 2023...\n",
      "Pobieranie danych dla roku 2024...\n",
      "Pobieranie danych dla roku 2025...\n",
      "Dane zapisano do assets/crypto-data-new.csv\n"
     ]
    }
   ],
   "source": [
    "headers_written = False\n",
    "\n",
    "for year in range(START_YEAR, END_YEAR + 1):\n",
    "    start_date = f\"{year}-01-01\"\n",
    "    end_date = f\"{year}-12-31\"\n",
    "    print(f\"Pobieranie danych dla roku {year}...\")\n",
    "\n",
    "    # Fetch\n",
    "    btc_history = yahooClient.history(start=start_date, end=f\"{year+1}-01-01\")\n",
    "    # trends_data = trendsClient.get_chart_data(timeframe=f\"{start_date} {end_date}\")\n",
    "    blockchain_metrics = [\n",
    "        \"avg-block-size\",\n",
    "        \"n-transactions-per-block\",\n",
    "        \"n-payments-per-block\",\n",
    "        \"transactions-per-second\", \n",
    "        \"blocks-size\",\n",
    "        \"hash-rate\",\n",
    "        \"difficulty\",\n",
    "    ]\n",
    "\n",
    "    blockchain_data = {metric: blockchainClient.get_chart_data(metric, f\"{year - 1}-12-31\", '2year') for metric in blockchain_metrics}\n",
    "\n",
    "    year_data = {}\n",
    "\n",
    "    for date in pd.date_range(start=start_date, end=end_date):\n",
    "        date_str = date.strftime(\"%Y-%m-%d\")\n",
    "        year_data[date_str] = {}\n",
    "\n",
    "    for idx, row in btc_history.iterrows():\n",
    "        row_date_str = idx.strftime(\"%Y-%m-%d\")\n",
    "        if row_date_str in year_data:\n",
    "            year_data[row_date_str].update(row.to_dict())\n",
    "\n",
    "    # if not trends_data.empty:\n",
    "    #     for idx, row in trends_data.iterrows():\n",
    "    #         row_date_str = idx.strftime(\"%Y-%m-%d\")\n",
    "    #         if row_date_str in year_data:\n",
    "    #             year_data[row_date_str].update(row.to_dict())\n",
    "\n",
    "    for metric, data in blockchain_data.items():\n",
    "        for point in data[\"values\"]:\n",
    "            # Konwersja x (sekundy) na datę w strefie Europe/Warsaw\n",
    "            converted_date = pd.to_datetime(point[\"x\"], unit=\"s\", utc=True) \\\n",
    "                                .tz_convert(\"Europe/Warsaw\") \\\n",
    "                                .strftime(\"%Y-%m-%d\")\n",
    "            if converted_date in year_data:\n",
    "                year_data[converted_date][metric] = point[\"y\"]\n",
    "    \n",
    "    all_columns = ['date'] + list(year_data[start_date].keys())\n",
    "\n",
    "    if not headers_written:\n",
    "        with open(OUTPUT_CSV, mode=\"w\", newline=\"\") as file:\n",
    "            writer = csv.writer(file)\n",
    "            writer.writerow(all_columns)\n",
    "        headers_written = True\n",
    "\n",
    "    # Zapisujemy dane do pliku CSV\n",
    "    with open(OUTPUT_CSV, mode=\"a\", newline=\"\") as file:\n",
    "        writer = csv.writer(file)\n",
    "        for date, row in year_data.items():\n",
    "            # Zapewniamy, że dane są w tej samej kolejności co nagłówki\n",
    "            row_data = [date] + [row.get(col, '') for col in all_columns[1:]]\n",
    "            writer.writerow(row_data)\n",
    "\n",
    "    # Przerwa między żądaniami, by nie przeciążyć API\n",
    "    time.sleep(10)\n",
    "\n",
    "print(f\"Dane zapisano do {OUTPUT_CSV}\")"
   ]
  }
 ],
 "metadata": {
  "kernelspec": {
   "display_name": "tensorflow",
   "language": "python",
   "name": "python3"
  },
  "language_info": {
   "codemirror_mode": {
    "name": "ipython",
    "version": 3
   },
   "file_extension": ".py",
   "mimetype": "text/x-python",
   "name": "python",
   "nbconvert_exporter": "python",
   "pygments_lexer": "ipython3",
   "version": "3.12.9"
  }
 },
 "nbformat": 4,
 "nbformat_minor": 2
}
